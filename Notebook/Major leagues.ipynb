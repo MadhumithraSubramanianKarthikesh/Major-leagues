{
 "cells": [
  {
   "cell_type": "markdown",
   "metadata": {},
   "source": [
    "# Major Leagues"
   ]
  },
  {
   "cell_type": "markdown",
   "metadata": {},
   "source": [
    "### __1. INDUSTRY__ "
   ]
  },
  {
   "cell_type": "markdown",
   "metadata": {},
   "source": [
    "__Sports__ industry is assigned."
   ]
  },
  {
   "cell_type": "markdown",
   "metadata": {},
   "source": [
    "### __2. DATA SETS__"
   ]
  },
  {
   "cell_type": "markdown",
   "metadata": {},
   "source": [
    "__2.1. SOURCE__: The dataset is from [Github](https://github.com) in [this link](https://github.com/fivethirtyeight/data/tree/master/soccer-spi)."
   ]
  },
  {
   "cell_type": "markdown",
   "metadata": {},
   "source": [
    "__DESCRIPTION__: The datasets contains data related to soccer league, team, spi, probability, projected score and scores. The following attributes from the datasets will be used for analysis."
   ]
  },
  {
   "cell_type": "markdown",
   "metadata": {},
   "source": [
    "|Attribute       | Datatype     |\n",
    "| :------------- | ----------: |\n",
    "| team | object   |\n",
    "| spi   | float64 |\n",
    "|prob| float64|\n",
    "|proj_score| float64|\n",
    "|score| float64||"
   ]
  },
  {
   "cell_type": "markdown",
   "metadata": {},
   "source": [
    "### __3. IDEAS__"
   ]
  },
  {
   "cell_type": "markdown",
   "metadata": {},
   "source": [
    "__3.1.__ To predict a team's score irrespective of the opposite team."
   ]
  },
  {
   "cell_type": "markdown",
   "metadata": {},
   "source": [
    "__3.2.__ To predict a team's score when it is playing with certain team."
   ]
  },
  {
   "cell_type": "markdown",
   "metadata": {},
   "source": [
    "### __4. LOADING THE DATASETS__"
   ]
  },
  {
   "cell_type": "markdown",
   "metadata": {},
   "source": [
    "__Load the libraries__"
   ]
  },
  {
   "cell_type": "code",
   "execution_count": 1,
   "metadata": {},
   "outputs": [],
   "source": [
    "import pandas as pd \n",
    "import numpy as np\n",
    "import matplotlib.pyplot as plt\n",
    "import seaborn as sns"
   ]
  },
  {
   "cell_type": "markdown",
   "metadata": {},
   "source": [
    "__Import the csv files of dataset__"
   ]
  },
  {
   "cell_type": "code",
   "execution_count": 2,
   "metadata": {},
   "outputs": [
    {
     "data": {
      "text/html": [
       "<div>\n",
       "<style scoped>\n",
       "    .dataframe tbody tr th:only-of-type {\n",
       "        vertical-align: middle;\n",
       "    }\n",
       "\n",
       "    .dataframe tbody tr th {\n",
       "        vertical-align: top;\n",
       "    }\n",
       "\n",
       "    .dataframe thead th {\n",
       "        text-align: right;\n",
       "    }\n",
       "</style>\n",
       "<table border=\"1\" class=\"dataframe\">\n",
       "  <thead>\n",
       "    <tr style=\"text-align: right;\">\n",
       "      <th></th>\n",
       "      <th>season</th>\n",
       "      <th>date</th>\n",
       "      <th>league_id</th>\n",
       "      <th>league</th>\n",
       "      <th>team1</th>\n",
       "      <th>team2</th>\n",
       "      <th>spi1</th>\n",
       "      <th>spi2</th>\n",
       "      <th>prob1</th>\n",
       "      <th>prob2</th>\n",
       "      <th>...</th>\n",
       "      <th>importance1</th>\n",
       "      <th>importance2</th>\n",
       "      <th>score1</th>\n",
       "      <th>score2</th>\n",
       "      <th>xg1</th>\n",
       "      <th>xg2</th>\n",
       "      <th>nsxg1</th>\n",
       "      <th>nsxg2</th>\n",
       "      <th>adj_score1</th>\n",
       "      <th>adj_score2</th>\n",
       "    </tr>\n",
       "  </thead>\n",
       "  <tbody>\n",
       "    <tr>\n",
       "      <th>0</th>\n",
       "      <td>2019</td>\n",
       "      <td>2019-03-01</td>\n",
       "      <td>1979</td>\n",
       "      <td>Chinese Super League</td>\n",
       "      <td>Shandong Luneng</td>\n",
       "      <td>Guizhou Renhe</td>\n",
       "      <td>48.22</td>\n",
       "      <td>37.83</td>\n",
       "      <td>0.5755</td>\n",
       "      <td>0.1740</td>\n",
       "      <td>...</td>\n",
       "      <td>45.9</td>\n",
       "      <td>22.1</td>\n",
       "      <td>1.0</td>\n",
       "      <td>0.0</td>\n",
       "      <td>1.39</td>\n",
       "      <td>0.26</td>\n",
       "      <td>2.05</td>\n",
       "      <td>0.54</td>\n",
       "      <td>1.05</td>\n",
       "      <td>0.00</td>\n",
       "    </tr>\n",
       "    <tr>\n",
       "      <th>1</th>\n",
       "      <td>2019</td>\n",
       "      <td>2019-03-01</td>\n",
       "      <td>1979</td>\n",
       "      <td>Chinese Super League</td>\n",
       "      <td>Guangzhou Evergrande</td>\n",
       "      <td>Tianjin Quanujian</td>\n",
       "      <td>65.59</td>\n",
       "      <td>39.99</td>\n",
       "      <td>0.7832</td>\n",
       "      <td>0.0673</td>\n",
       "      <td>...</td>\n",
       "      <td>77.1</td>\n",
       "      <td>28.8</td>\n",
       "      <td>3.0</td>\n",
       "      <td>0.0</td>\n",
       "      <td>0.49</td>\n",
       "      <td>0.45</td>\n",
       "      <td>1.05</td>\n",
       "      <td>0.75</td>\n",
       "      <td>3.15</td>\n",
       "      <td>0.00</td>\n",
       "    </tr>\n",
       "    <tr>\n",
       "      <th>2</th>\n",
       "      <td>2019</td>\n",
       "      <td>2019-03-01</td>\n",
       "      <td>1979</td>\n",
       "      <td>Chinese Super League</td>\n",
       "      <td>Shanghai Greenland</td>\n",
       "      <td>Shanghai SIPG</td>\n",
       "      <td>39.81</td>\n",
       "      <td>60.08</td>\n",
       "      <td>0.2387</td>\n",
       "      <td>0.5203</td>\n",
       "      <td>...</td>\n",
       "      <td>25.6</td>\n",
       "      <td>63.4</td>\n",
       "      <td>0.0</td>\n",
       "      <td>4.0</td>\n",
       "      <td>0.57</td>\n",
       "      <td>2.76</td>\n",
       "      <td>0.80</td>\n",
       "      <td>1.50</td>\n",
       "      <td>0.00</td>\n",
       "      <td>3.26</td>\n",
       "    </tr>\n",
       "    <tr>\n",
       "      <th>3</th>\n",
       "      <td>2019</td>\n",
       "      <td>2019-03-01</td>\n",
       "      <td>1979</td>\n",
       "      <td>Chinese Super League</td>\n",
       "      <td>Wuhan Zall</td>\n",
       "      <td>Beijing Guoan</td>\n",
       "      <td>32.25</td>\n",
       "      <td>54.82</td>\n",
       "      <td>0.2276</td>\n",
       "      <td>0.5226</td>\n",
       "      <td>...</td>\n",
       "      <td>35.8</td>\n",
       "      <td>58.9</td>\n",
       "      <td>0.0</td>\n",
       "      <td>1.0</td>\n",
       "      <td>1.12</td>\n",
       "      <td>0.97</td>\n",
       "      <td>1.51</td>\n",
       "      <td>0.94</td>\n",
       "      <td>0.00</td>\n",
       "      <td>1.05</td>\n",
       "    </tr>\n",
       "    <tr>\n",
       "      <th>4</th>\n",
       "      <td>2019</td>\n",
       "      <td>2019-03-01</td>\n",
       "      <td>1979</td>\n",
       "      <td>Chinese Super League</td>\n",
       "      <td>Chongqing Lifan</td>\n",
       "      <td>Guangzhou RF</td>\n",
       "      <td>38.24</td>\n",
       "      <td>40.45</td>\n",
       "      <td>0.4403</td>\n",
       "      <td>0.2932</td>\n",
       "      <td>...</td>\n",
       "      <td>26.2</td>\n",
       "      <td>21.3</td>\n",
       "      <td>2.0</td>\n",
       "      <td>2.0</td>\n",
       "      <td>2.77</td>\n",
       "      <td>3.17</td>\n",
       "      <td>1.05</td>\n",
       "      <td>2.08</td>\n",
       "      <td>2.10</td>\n",
       "      <td>2.10</td>\n",
       "    </tr>\n",
       "  </tbody>\n",
       "</table>\n",
       "<p>5 rows × 23 columns</p>\n",
       "</div>"
      ],
      "text/plain": [
       "   season        date  league_id                league                 team1  \\\n",
       "0    2019  2019-03-01       1979  Chinese Super League       Shandong Luneng   \n",
       "1    2019  2019-03-01       1979  Chinese Super League  Guangzhou Evergrande   \n",
       "2    2019  2019-03-01       1979  Chinese Super League    Shanghai Greenland   \n",
       "3    2019  2019-03-01       1979  Chinese Super League            Wuhan Zall   \n",
       "4    2019  2019-03-01       1979  Chinese Super League       Chongqing Lifan   \n",
       "\n",
       "               team2   spi1   spi2   prob1   prob2  ...  importance1  \\\n",
       "0      Guizhou Renhe  48.22  37.83  0.5755  0.1740  ...         45.9   \n",
       "1  Tianjin Quanujian  65.59  39.99  0.7832  0.0673  ...         77.1   \n",
       "2      Shanghai SIPG  39.81  60.08  0.2387  0.5203  ...         25.6   \n",
       "3      Beijing Guoan  32.25  54.82  0.2276  0.5226  ...         35.8   \n",
       "4       Guangzhou RF  38.24  40.45  0.4403  0.2932  ...         26.2   \n",
       "\n",
       "   importance2  score1  score2   xg1   xg2  nsxg1  nsxg2  adj_score1  \\\n",
       "0         22.1     1.0     0.0  1.39  0.26   2.05   0.54        1.05   \n",
       "1         28.8     3.0     0.0  0.49  0.45   1.05   0.75        3.15   \n",
       "2         63.4     0.0     4.0  0.57  2.76   0.80   1.50        0.00   \n",
       "3         58.9     0.0     1.0  1.12  0.97   1.51   0.94        0.00   \n",
       "4         21.3     2.0     2.0  2.77  3.17   1.05   2.08        2.10   \n",
       "\n",
       "   adj_score2  \n",
       "0        0.00  \n",
       "1        0.00  \n",
       "2        3.26  \n",
       "3        1.05  \n",
       "4        2.10  \n",
       "\n",
       "[5 rows x 23 columns]"
      ]
     },
     "execution_count": 2,
     "metadata": {},
     "output_type": "execute_result"
    }
   ],
   "source": [
    "soccer_data=pd.read_csv(\"/Users/madhumithrasubramaniankarthikesh/Downloads/spi_matches_latest.csv\")\n",
    "soccer_data.head()"
   ]
  },
  {
   "cell_type": "markdown",
   "metadata": {},
   "source": [
    "### __5. DATA PREPARATION__"
   ]
  },
  {
   "cell_type": "markdown",
   "metadata": {},
   "source": [
    "__5.1 DATA CLEANING AND FEATURE ENGINEERING__"
   ]
  },
  {
   "cell_type": "markdown",
   "metadata": {},
   "source": [
    "__Shape of all the data__"
   ]
  },
  {
   "cell_type": "code",
   "execution_count": 3,
   "metadata": {},
   "outputs": [
    {
     "name": "stdout",
     "output_type": "stream",
     "text": [
      "Shape of soccer: (10930, 23)\n"
     ]
    }
   ],
   "source": [
    "print(\"Shape of soccer: \"+str(soccer_data.shape))"
   ]
  },
  {
   "cell_type": "markdown",
   "metadata": {},
   "source": [
    "__Make into a new dataset with scores for all team in each matches__"
   ]
  },
  {
   "cell_type": "code",
   "execution_count": 4,
   "metadata": {},
   "outputs": [
    {
     "data": {
      "text/html": [
       "<div>\n",
       "<style scoped>\n",
       "    .dataframe tbody tr th:only-of-type {\n",
       "        vertical-align: middle;\n",
       "    }\n",
       "\n",
       "    .dataframe tbody tr th {\n",
       "        vertical-align: top;\n",
       "    }\n",
       "\n",
       "    .dataframe thead th {\n",
       "        text-align: right;\n",
       "    }\n",
       "</style>\n",
       "<table border=\"1\" class=\"dataframe\">\n",
       "  <thead>\n",
       "    <tr style=\"text-align: right;\">\n",
       "      <th></th>\n",
       "      <th>season</th>\n",
       "      <th>date</th>\n",
       "      <th>league_id</th>\n",
       "      <th>team</th>\n",
       "      <th>spi</th>\n",
       "      <th>prob</th>\n",
       "      <th>proj_score</th>\n",
       "      <th>importance</th>\n",
       "      <th>score</th>\n",
       "      <th>xg</th>\n",
       "      <th>nsxg</th>\n",
       "      <th>adj_score</th>\n",
       "    </tr>\n",
       "  </thead>\n",
       "  <tbody>\n",
       "    <tr>\n",
       "      <th>0</th>\n",
       "      <td>2019</td>\n",
       "      <td>2019-03-01</td>\n",
       "      <td>1979</td>\n",
       "      <td>Shandong Luneng</td>\n",
       "      <td>48.22</td>\n",
       "      <td>0.5755</td>\n",
       "      <td>1.75</td>\n",
       "      <td>45.9</td>\n",
       "      <td>1.0</td>\n",
       "      <td>1.39</td>\n",
       "      <td>2.05</td>\n",
       "      <td>1.05</td>\n",
       "    </tr>\n",
       "    <tr>\n",
       "      <th>1</th>\n",
       "      <td>2019</td>\n",
       "      <td>2019-03-01</td>\n",
       "      <td>1979</td>\n",
       "      <td>Guangzhou Evergrande</td>\n",
       "      <td>65.59</td>\n",
       "      <td>0.7832</td>\n",
       "      <td>2.58</td>\n",
       "      <td>77.1</td>\n",
       "      <td>3.0</td>\n",
       "      <td>0.49</td>\n",
       "      <td>1.05</td>\n",
       "      <td>3.15</td>\n",
       "    </tr>\n",
       "    <tr>\n",
       "      <th>2</th>\n",
       "      <td>2019</td>\n",
       "      <td>2019-03-01</td>\n",
       "      <td>1979</td>\n",
       "      <td>Shanghai Greenland</td>\n",
       "      <td>39.81</td>\n",
       "      <td>0.2387</td>\n",
       "      <td>1.22</td>\n",
       "      <td>25.6</td>\n",
       "      <td>0.0</td>\n",
       "      <td>0.57</td>\n",
       "      <td>0.80</td>\n",
       "      <td>0.00</td>\n",
       "    </tr>\n",
       "    <tr>\n",
       "      <th>3</th>\n",
       "      <td>2019</td>\n",
       "      <td>2019-03-01</td>\n",
       "      <td>1979</td>\n",
       "      <td>Wuhan Zall</td>\n",
       "      <td>32.25</td>\n",
       "      <td>0.2276</td>\n",
       "      <td>1.10</td>\n",
       "      <td>35.8</td>\n",
       "      <td>0.0</td>\n",
       "      <td>1.12</td>\n",
       "      <td>1.51</td>\n",
       "      <td>0.00</td>\n",
       "    </tr>\n",
       "    <tr>\n",
       "      <th>4</th>\n",
       "      <td>2019</td>\n",
       "      <td>2019-03-01</td>\n",
       "      <td>1979</td>\n",
       "      <td>Chongqing Lifan</td>\n",
       "      <td>38.24</td>\n",
       "      <td>0.4403</td>\n",
       "      <td>1.57</td>\n",
       "      <td>26.2</td>\n",
       "      <td>2.0</td>\n",
       "      <td>2.77</td>\n",
       "      <td>1.05</td>\n",
       "      <td>2.10</td>\n",
       "    </tr>\n",
       "  </tbody>\n",
       "</table>\n",
       "</div>"
      ],
      "text/plain": [
       "   season        date  league_id                  team    spi    prob  \\\n",
       "0    2019  2019-03-01       1979       Shandong Luneng  48.22  0.5755   \n",
       "1    2019  2019-03-01       1979  Guangzhou Evergrande  65.59  0.7832   \n",
       "2    2019  2019-03-01       1979    Shanghai Greenland  39.81  0.2387   \n",
       "3    2019  2019-03-01       1979            Wuhan Zall  32.25  0.2276   \n",
       "4    2019  2019-03-01       1979       Chongqing Lifan  38.24  0.4403   \n",
       "\n",
       "   proj_score  importance  score    xg  nsxg  adj_score  \n",
       "0        1.75        45.9    1.0  1.39  2.05       1.05  \n",
       "1        2.58        77.1    3.0  0.49  1.05       3.15  \n",
       "2        1.22        25.6    0.0  0.57  0.80       0.00  \n",
       "3        1.10        35.8    0.0  1.12  1.51       0.00  \n",
       "4        1.57        26.2    2.0  2.77  1.05       2.10  "
      ]
     },
     "execution_count": 4,
     "metadata": {},
     "output_type": "execute_result"
    }
   ],
   "source": [
    "team1_data=pd.DataFrame(soccer_data[['season','date','league_id','team1','spi1','prob1','proj_score1','importance1','score1','xg1','nsxg1','adj_score1']])\n",
    "team1_data.rename(columns={\"team1\": \"team\", \"spi1\": \"spi\",\"prob1\": \"prob\", \"proj_score1\": \"proj_score\",\"score1\": \"score\", \"xg1\": \"xg\"}, inplace=True)\n",
    "team1_data.rename(columns={\"importance1\": \"importance\",\"nsxg1\": \"nsxg\", \"adj_score1\": \"adj_score\"}, inplace=True)\n",
    "team1_data.head()"
   ]
  },
  {
   "cell_type": "code",
   "execution_count": 5,
   "metadata": {},
   "outputs": [
    {
     "data": {
      "text/html": [
       "<div>\n",
       "<style scoped>\n",
       "    .dataframe tbody tr th:only-of-type {\n",
       "        vertical-align: middle;\n",
       "    }\n",
       "\n",
       "    .dataframe tbody tr th {\n",
       "        vertical-align: top;\n",
       "    }\n",
       "\n",
       "    .dataframe thead th {\n",
       "        text-align: right;\n",
       "    }\n",
       "</style>\n",
       "<table border=\"1\" class=\"dataframe\">\n",
       "  <thead>\n",
       "    <tr style=\"text-align: right;\">\n",
       "      <th></th>\n",
       "      <th>season</th>\n",
       "      <th>date</th>\n",
       "      <th>league_id</th>\n",
       "      <th>team</th>\n",
       "      <th>spi</th>\n",
       "      <th>prob</th>\n",
       "      <th>proj_score</th>\n",
       "      <th>importance</th>\n",
       "      <th>score</th>\n",
       "      <th>xg</th>\n",
       "      <th>nsxg</th>\n",
       "      <th>adj_score</th>\n",
       "    </tr>\n",
       "  </thead>\n",
       "  <tbody>\n",
       "    <tr>\n",
       "      <th>0</th>\n",
       "      <td>2019</td>\n",
       "      <td>2019-03-01</td>\n",
       "      <td>1979</td>\n",
       "      <td>Guizhou Renhe</td>\n",
       "      <td>37.83</td>\n",
       "      <td>0.1740</td>\n",
       "      <td>0.84</td>\n",
       "      <td>22.1</td>\n",
       "      <td>0.0</td>\n",
       "      <td>0.26</td>\n",
       "      <td>0.54</td>\n",
       "      <td>0.00</td>\n",
       "    </tr>\n",
       "    <tr>\n",
       "      <th>1</th>\n",
       "      <td>2019</td>\n",
       "      <td>2019-03-01</td>\n",
       "      <td>1979</td>\n",
       "      <td>Tianjin Quanujian</td>\n",
       "      <td>39.99</td>\n",
       "      <td>0.0673</td>\n",
       "      <td>0.62</td>\n",
       "      <td>28.8</td>\n",
       "      <td>0.0</td>\n",
       "      <td>0.45</td>\n",
       "      <td>0.75</td>\n",
       "      <td>0.00</td>\n",
       "    </tr>\n",
       "    <tr>\n",
       "      <th>2</th>\n",
       "      <td>2019</td>\n",
       "      <td>2019-03-01</td>\n",
       "      <td>1979</td>\n",
       "      <td>Shanghai SIPG</td>\n",
       "      <td>60.08</td>\n",
       "      <td>0.5203</td>\n",
       "      <td>1.89</td>\n",
       "      <td>63.4</td>\n",
       "      <td>4.0</td>\n",
       "      <td>2.76</td>\n",
       "      <td>1.50</td>\n",
       "      <td>3.26</td>\n",
       "    </tr>\n",
       "    <tr>\n",
       "      <th>3</th>\n",
       "      <td>2019</td>\n",
       "      <td>2019-03-01</td>\n",
       "      <td>1979</td>\n",
       "      <td>Beijing Guoan</td>\n",
       "      <td>54.82</td>\n",
       "      <td>0.5226</td>\n",
       "      <td>1.79</td>\n",
       "      <td>58.9</td>\n",
       "      <td>1.0</td>\n",
       "      <td>0.97</td>\n",
       "      <td>0.94</td>\n",
       "      <td>1.05</td>\n",
       "    </tr>\n",
       "    <tr>\n",
       "      <th>4</th>\n",
       "      <td>2019</td>\n",
       "      <td>2019-03-01</td>\n",
       "      <td>1979</td>\n",
       "      <td>Guangzhou RF</td>\n",
       "      <td>40.45</td>\n",
       "      <td>0.2932</td>\n",
       "      <td>1.24</td>\n",
       "      <td>21.3</td>\n",
       "      <td>2.0</td>\n",
       "      <td>3.17</td>\n",
       "      <td>2.08</td>\n",
       "      <td>2.10</td>\n",
       "    </tr>\n",
       "  </tbody>\n",
       "</table>\n",
       "</div>"
      ],
      "text/plain": [
       "   season        date  league_id               team    spi    prob  \\\n",
       "0    2019  2019-03-01       1979      Guizhou Renhe  37.83  0.1740   \n",
       "1    2019  2019-03-01       1979  Tianjin Quanujian  39.99  0.0673   \n",
       "2    2019  2019-03-01       1979      Shanghai SIPG  60.08  0.5203   \n",
       "3    2019  2019-03-01       1979      Beijing Guoan  54.82  0.5226   \n",
       "4    2019  2019-03-01       1979       Guangzhou RF  40.45  0.2932   \n",
       "\n",
       "   proj_score  importance  score    xg  nsxg  adj_score  \n",
       "0        0.84        22.1    0.0  0.26  0.54       0.00  \n",
       "1        0.62        28.8    0.0  0.45  0.75       0.00  \n",
       "2        1.89        63.4    4.0  2.76  1.50       3.26  \n",
       "3        1.79        58.9    1.0  0.97  0.94       1.05  \n",
       "4        1.24        21.3    2.0  3.17  2.08       2.10  "
      ]
     },
     "execution_count": 5,
     "metadata": {},
     "output_type": "execute_result"
    }
   ],
   "source": [
    "team2_data=pd.DataFrame(soccer_data[['season','date','league_id','team2','spi2','prob2','proj_score2','importance2','score2','xg2','nsxg2','adj_score2']])\n",
    "team2_data.rename(columns={\"team2\": \"team\", \"spi2\": \"spi\",\"prob2\": \"prob\", \"proj_score2\": \"proj_score\",\"score2\": \"score\", \"xg2\": \"xg\",\"importance2\": \"importance\", \"nsxg2\": \"nsxg\", \"adj_score2\": \"adj_score\"}, inplace=True)\n",
    "team2_data.head()"
   ]
  },
  {
   "cell_type": "code",
   "execution_count": 6,
   "metadata": {},
   "outputs": [
    {
     "data": {
      "text/html": [
       "<div>\n",
       "<style scoped>\n",
       "    .dataframe tbody tr th:only-of-type {\n",
       "        vertical-align: middle;\n",
       "    }\n",
       "\n",
       "    .dataframe tbody tr th {\n",
       "        vertical-align: top;\n",
       "    }\n",
       "\n",
       "    .dataframe thead th {\n",
       "        text-align: right;\n",
       "    }\n",
       "</style>\n",
       "<table border=\"1\" class=\"dataframe\">\n",
       "  <thead>\n",
       "    <tr style=\"text-align: right;\">\n",
       "      <th></th>\n",
       "      <th>season</th>\n",
       "      <th>date</th>\n",
       "      <th>league_id</th>\n",
       "      <th>team</th>\n",
       "      <th>spi</th>\n",
       "      <th>prob</th>\n",
       "      <th>proj_score</th>\n",
       "      <th>importance</th>\n",
       "      <th>score</th>\n",
       "      <th>xg</th>\n",
       "      <th>nsxg</th>\n",
       "      <th>adj_score</th>\n",
       "    </tr>\n",
       "  </thead>\n",
       "  <tbody>\n",
       "    <tr>\n",
       "      <th>0</th>\n",
       "      <td>2019</td>\n",
       "      <td>2019-03-01</td>\n",
       "      <td>1979</td>\n",
       "      <td>Shandong Luneng</td>\n",
       "      <td>48.22</td>\n",
       "      <td>0.5755</td>\n",
       "      <td>1.75</td>\n",
       "      <td>45.9</td>\n",
       "      <td>1.0</td>\n",
       "      <td>1.39</td>\n",
       "      <td>2.05</td>\n",
       "      <td>1.05</td>\n",
       "    </tr>\n",
       "    <tr>\n",
       "      <th>1</th>\n",
       "      <td>2019</td>\n",
       "      <td>2019-03-01</td>\n",
       "      <td>1979</td>\n",
       "      <td>Guangzhou Evergrande</td>\n",
       "      <td>65.59</td>\n",
       "      <td>0.7832</td>\n",
       "      <td>2.58</td>\n",
       "      <td>77.1</td>\n",
       "      <td>3.0</td>\n",
       "      <td>0.49</td>\n",
       "      <td>1.05</td>\n",
       "      <td>3.15</td>\n",
       "    </tr>\n",
       "    <tr>\n",
       "      <th>2</th>\n",
       "      <td>2019</td>\n",
       "      <td>2019-03-01</td>\n",
       "      <td>1979</td>\n",
       "      <td>Shanghai Greenland</td>\n",
       "      <td>39.81</td>\n",
       "      <td>0.2387</td>\n",
       "      <td>1.22</td>\n",
       "      <td>25.6</td>\n",
       "      <td>0.0</td>\n",
       "      <td>0.57</td>\n",
       "      <td>0.80</td>\n",
       "      <td>0.00</td>\n",
       "    </tr>\n",
       "    <tr>\n",
       "      <th>3</th>\n",
       "      <td>2019</td>\n",
       "      <td>2019-03-01</td>\n",
       "      <td>1979</td>\n",
       "      <td>Wuhan Zall</td>\n",
       "      <td>32.25</td>\n",
       "      <td>0.2276</td>\n",
       "      <td>1.10</td>\n",
       "      <td>35.8</td>\n",
       "      <td>0.0</td>\n",
       "      <td>1.12</td>\n",
       "      <td>1.51</td>\n",
       "      <td>0.00</td>\n",
       "    </tr>\n",
       "    <tr>\n",
       "      <th>4</th>\n",
       "      <td>2019</td>\n",
       "      <td>2019-03-01</td>\n",
       "      <td>1979</td>\n",
       "      <td>Chongqing Lifan</td>\n",
       "      <td>38.24</td>\n",
       "      <td>0.4403</td>\n",
       "      <td>1.57</td>\n",
       "      <td>26.2</td>\n",
       "      <td>2.0</td>\n",
       "      <td>2.77</td>\n",
       "      <td>1.05</td>\n",
       "      <td>2.10</td>\n",
       "    </tr>\n",
       "  </tbody>\n",
       "</table>\n",
       "</div>"
      ],
      "text/plain": [
       "   season        date  league_id                  team    spi    prob  \\\n",
       "0    2019  2019-03-01       1979       Shandong Luneng  48.22  0.5755   \n",
       "1    2019  2019-03-01       1979  Guangzhou Evergrande  65.59  0.7832   \n",
       "2    2019  2019-03-01       1979    Shanghai Greenland  39.81  0.2387   \n",
       "3    2019  2019-03-01       1979            Wuhan Zall  32.25  0.2276   \n",
       "4    2019  2019-03-01       1979       Chongqing Lifan  38.24  0.4403   \n",
       "\n",
       "   proj_score  importance  score    xg  nsxg  adj_score  \n",
       "0        1.75        45.9    1.0  1.39  2.05       1.05  \n",
       "1        2.58        77.1    3.0  0.49  1.05       3.15  \n",
       "2        1.22        25.6    0.0  0.57  0.80       0.00  \n",
       "3        1.10        35.8    0.0  1.12  1.51       0.00  \n",
       "4        1.57        26.2    2.0  2.77  1.05       2.10  "
      ]
     },
     "execution_count": 6,
     "metadata": {},
     "output_type": "execute_result"
    }
   ],
   "source": [
    "soccer_data = pd.concat([team1_data, team2_data], axis=0)\n",
    "soccer_data.head()"
   ]
  },
  {
   "cell_type": "code",
   "execution_count": 7,
   "metadata": {},
   "outputs": [
    {
     "data": {
      "text/plain": [
       "(21860, 12)"
      ]
     },
     "execution_count": 7,
     "metadata": {},
     "output_type": "execute_result"
    }
   ],
   "source": [
    "soccer_data.shape"
   ]
  },
  {
   "cell_type": "markdown",
   "metadata": {},
   "source": [
    "__Drop the NaN rows__"
   ]
  },
  {
   "cell_type": "code",
   "execution_count": 8,
   "metadata": {
    "scrolled": true
   },
   "outputs": [
    {
     "data": {
      "text/html": [
       "<div>\n",
       "<style scoped>\n",
       "    .dataframe tbody tr th:only-of-type {\n",
       "        vertical-align: middle;\n",
       "    }\n",
       "\n",
       "    .dataframe tbody tr th {\n",
       "        vertical-align: top;\n",
       "    }\n",
       "\n",
       "    .dataframe thead th {\n",
       "        text-align: right;\n",
       "    }\n",
       "</style>\n",
       "<table border=\"1\" class=\"dataframe\">\n",
       "  <thead>\n",
       "    <tr style=\"text-align: right;\">\n",
       "      <th></th>\n",
       "      <th>team</th>\n",
       "      <th>spi</th>\n",
       "      <th>prob</th>\n",
       "      <th>proj_score</th>\n",
       "      <th>score</th>\n",
       "    </tr>\n",
       "  </thead>\n",
       "  <tbody>\n",
       "    <tr>\n",
       "      <th>0</th>\n",
       "      <td>Shandong Luneng</td>\n",
       "      <td>48.22</td>\n",
       "      <td>0.5755</td>\n",
       "      <td>1.75</td>\n",
       "      <td>1.0</td>\n",
       "    </tr>\n",
       "    <tr>\n",
       "      <th>1</th>\n",
       "      <td>Guangzhou Evergrande</td>\n",
       "      <td>65.59</td>\n",
       "      <td>0.7832</td>\n",
       "      <td>2.58</td>\n",
       "      <td>3.0</td>\n",
       "    </tr>\n",
       "    <tr>\n",
       "      <th>2</th>\n",
       "      <td>Shanghai Greenland</td>\n",
       "      <td>39.81</td>\n",
       "      <td>0.2387</td>\n",
       "      <td>1.22</td>\n",
       "      <td>0.0</td>\n",
       "    </tr>\n",
       "    <tr>\n",
       "      <th>3</th>\n",
       "      <td>Wuhan Zall</td>\n",
       "      <td>32.25</td>\n",
       "      <td>0.2276</td>\n",
       "      <td>1.10</td>\n",
       "      <td>0.0</td>\n",
       "    </tr>\n",
       "    <tr>\n",
       "      <th>4</th>\n",
       "      <td>Chongqing Lifan</td>\n",
       "      <td>38.24</td>\n",
       "      <td>0.4403</td>\n",
       "      <td>1.57</td>\n",
       "      <td>2.0</td>\n",
       "    </tr>\n",
       "  </tbody>\n",
       "</table>\n",
       "</div>"
      ],
      "text/plain": [
       "                   team    spi    prob  proj_score  score\n",
       "0       Shandong Luneng  48.22  0.5755        1.75    1.0\n",
       "1  Guangzhou Evergrande  65.59  0.7832        2.58    3.0\n",
       "2    Shanghai Greenland  39.81  0.2387        1.22    0.0\n",
       "3            Wuhan Zall  32.25  0.2276        1.10    0.0\n",
       "4       Chongqing Lifan  38.24  0.4403        1.57    2.0"
      ]
     },
     "execution_count": 8,
     "metadata": {},
     "output_type": "execute_result"
    }
   ],
   "source": [
    "del soccer_data[\"xg\"]\n",
    "del soccer_data[\"nsxg\"]\n",
    "del soccer_data[\"adj_score\"]\n",
    "del soccer_data[\"season\"]\n",
    "del soccer_data[\"date\"]\n",
    "del soccer_data[\"league_id\"]\n",
    "del soccer_data[\"importance\"]\n",
    "soccer_data=soccer_data.dropna()\n",
    "soccer_data.head()"
   ]
  },
  {
   "cell_type": "markdown",
   "metadata": {},
   "source": [
    "__Shape of all the data__"
   ]
  },
  {
   "cell_type": "code",
   "execution_count": 9,
   "metadata": {},
   "outputs": [
    {
     "name": "stdout",
     "output_type": "stream",
     "text": [
      "Soccer: (7186, 5)\n"
     ]
    }
   ],
   "source": [
    "print(\"Soccer: \"+str(soccer_data.shape))"
   ]
  },
  {
   "cell_type": "markdown",
   "metadata": {},
   "source": [
    "__Attributes and datatypes of the dataset__"
   ]
  },
  {
   "cell_type": "code",
   "execution_count": 10,
   "metadata": {},
   "outputs": [
    {
     "name": "stdout",
     "output_type": "stream",
     "text": [
      "team  is  object\n",
      "spi  is  float64\n",
      "prob  is  float64\n",
      "proj_score  is  float64\n",
      "score  is  float64\n"
     ]
    }
   ],
   "source": [
    "for column in soccer_data.columns:\n",
    "    print(column, \" is \", soccer_data[column].dtype.name)"
   ]
  },
  {
   "cell_type": "markdown",
   "metadata": {},
   "source": [
    "__5.2 VISUALIZATION__"
   ]
  },
  {
   "cell_type": "markdown",
   "metadata": {},
   "source": [
    "__Barplot for score__"
   ]
  },
  {
   "cell_type": "code",
   "execution_count": 11,
   "metadata": {},
   "outputs": [
    {
     "data": {
      "text/plain": [
       "Text(0.5, 0, 'Score')"
      ]
     },
     "execution_count": 11,
     "metadata": {},
     "output_type": "execute_result"
    },
    {
     "data": {
      "image/png": "[encoded data removed]",
      "text/plain": [
       "<Figure size 1440x720 with 1 Axes>"
      ]
     },
     "metadata": {
      "needs_background": "light"
     },
     "output_type": "display_data"
    }
   ],
   "source": [
    "plt.figure(figsize=(20,10))\n",
    "g = sns.countplot(x=soccer_data['score'], data=soccer_data)\n",
    "g.set_xticklabels(g.get_xticklabels(), rotation=60, ha=\"right\");\n",
    "g.set_title('Score vs Count');\n",
    "g.set_xlabel('Score')"
   ]
  },
  {
   "cell_type": "markdown",
   "metadata": {},
   "source": [
    "The number of times teams have got a score of 1 is greater than any other score."
   ]
  },
  {
   "cell_type": "markdown",
   "metadata": {},
   "source": [
    "__Countplot for projected score__"
   ]
  },
  {
   "cell_type": "code",
   "execution_count": 27,
   "metadata": {},
   "outputs": [
    {
     "data": {
      "image/png": "[encoded data removed]",
      "text/plain": [
       "<Figure size 1440x720 with 1 Axes>"
      ]
     },
     "metadata": {
      "needs_background": "light"
     },
     "output_type": "display_data"
    }
   ],
   "source": [
    "plt.figure(figsize=(20,10))\n",
    "g = sns.countplot(x=soccer_data['proj_score'], data=soccer_data)\n",
    "g.set_xticklabels(g.get_xticklabels()[::10], rotation=90, ha=\"right\", fontsize=10);\n",
    "new_ticks=g.get_xticklabels()\n",
    "plt.xticks(range(0, len(new_ticks), 10), new_ticks[::10])\n",
    "g.set_title('Proj_score vs Count');\n"
   ]
  },
  {
   "cell_type": "markdown",
   "metadata": {},
   "source": [
    "The projected score also lies within 1 and 1.5 for the same data which is in agreement with the actual score of 1."
   ]
  },
  {
   "cell_type": "markdown",
   "metadata": {},
   "source": [
    "__5.3 Regression__"
   ]
  },
  {
   "cell_type": "markdown",
   "metadata": {},
   "source": [
    "__Train, test and validation dataset for predicting scores of the teams__"
   ]
  },
  {
   "cell_type": "code",
   "execution_count": 13,
   "metadata": {},
   "outputs": [],
   "source": [
    "from numpy import mean\n",
    "from numpy import std\n",
    "from pandas import read_csv\n",
    "from sklearn.model_selection import train_test_split\n",
    "from sklearn.linear_model import LogisticRegression\n",
    "from sklearn.preprocessing import OneHotEncoder\n",
    "from sklearn.preprocessing import LabelEncoder\n",
    "from sklearn.preprocessing import OrdinalEncoder\n",
    "from sklearn.metrics import accuracy_score\n",
    "from sklearn.model_selection import train_test_split\n",
    "train_ratio = 0.8\n",
    "validation_ratio = 0.1\n",
    "test_ratio = 0.1\n",
    "cols=['team','spi','prob','proj_score']\n",
    "\n",
    "#replace 0 as 5\n",
    "col=soccer_data['score'].replace(0, 5)\n",
    "\n",
    "# define one hot encoding for the categorical independent variables\n",
    "encoder = OneHotEncoder(sparse=False)\n",
    "# transform data\n",
    "x = encoder.fit_transform(soccer_data[cols])\n",
    "\n",
    "# define label encoding for the dependent variable\n",
    "label_encoder = LabelEncoder()\n",
    "y = label_encoder.fit_transform(col)\n",
    "\n",
    "x_train, x_test, y_train, y_test = train_test_split(x, y, test_size=1 - train_ratio)\n",
    "\n",
    "# test = 10% of the initial data set\n",
    "# validation = 10% of the initial data set\n",
    "x_val, x_test, y_val, y_test = train_test_split(x_test, y_test, test_size=test_ratio/(test_ratio + validation_ratio)) "
   ]
  },
  {
   "cell_type": "markdown",
   "metadata": {},
   "source": [
    "__5.3.1 Linear Regression__"
   ]
  },
  {
   "cell_type": "markdown",
   "metadata": {},
   "source": [
    "__Training and Testing: Linear regression for predicting the scores of the team__"
   ]
  },
  {
   "cell_type": "code",
   "execution_count": 14,
   "metadata": {},
   "outputs": [
    {
     "name": "stdout",
     "output_type": "stream",
     "text": [
      "Test Coefficients: [ 0.7111271   0.06660344 -0.45442077 ... -0.35614945  0.\n",
      "  1.23768951]\n",
      "Test Mean squared error:  6.87927735547539\n",
      "Test Coefficient of determination:  -1.6014428823427225\n"
     ]
    },
    {
     "data": {
      "text/plain": [
       "[('team', 0.7111270964839373),\n",
       " ('spi', 0.06660343651810852),\n",
       " ('prob', -0.4544207709540689),\n",
       " ('proj_score', 0.21738030414425213)]"
      ]
     },
     "execution_count": 14,
     "metadata": {},
     "output_type": "execute_result"
    }
   ],
   "source": [
    "from sklearn.linear_model import LinearRegression\n",
    "from sklearn.metrics import mean_squared_error, r2_score\n",
    "clf = LinearRegression().fit(x_train, y_train)\n",
    "y_pred=clf.predict(x_test)\n",
    "# The coefficients\n",
    "print(\"Test Coefficients:\",clf.coef_)\n",
    "# The mean squared error\n",
    "print(\"Test Mean squared error: \",mean_squared_error(y_test, y_pred))\n",
    "# The coefficient of determination: 1 is perfect prediction\n",
    "print(\"Test Coefficient of determination: \",r2_score(y_test, y_pred))\n",
    "# print the coefficients\n",
    "list(zip(cols, clf.coef_))"
   ]
  },
  {
   "cell_type": "markdown",
   "metadata": {},
   "source": [
    "__Validation: Linear regression for predicting the scores of the team__"
   ]
  },
  {
   "cell_type": "code",
   "execution_count": 15,
   "metadata": {},
   "outputs": [
    {
     "name": "stdout",
     "output_type": "stream",
     "text": [
      "Coefficients: [ 0.7111271   0.06660344 -0.45442077 ... -0.35614945  0.\n",
      "  1.23768951]\n",
      "Mean squared error: 6.836565968761102\n",
      "Coefficient of determination: -1.3542407317350187\n"
     ]
    }
   ],
   "source": [
    "y_pred = clf.predict(x_val)\n",
    "\n",
    "# The coefficients\n",
    "print(\"Coefficients: \"+ str(clf.coef_))\n",
    "# The mean squared error\n",
    "print(\"Mean squared error: \"+ str(mean_squared_error(y_val, y_pred)))\n",
    "# The coefficient of determination: 1 is perfect prediction\n",
    "print(\"Coefficient of determination: \"+str(r2_score(y_val, y_pred)))"
   ]
  },
  {
   "cell_type": "markdown",
   "metadata": {},
   "source": [
    "__5.3.2 Random Forest__"
   ]
  },
  {
   "cell_type": "markdown",
   "metadata": {},
   "source": [
    "__Training: Random forest classifier for predicting the scores of the team__"
   ]
  },
  {
   "cell_type": "code",
   "execution_count": 16,
   "metadata": {},
   "outputs": [],
   "source": [
    "# Import the model we are using\n",
    "from sklearn.ensemble import RandomForestRegressor\n",
    "# Instantiate model with 10 decision trees\n",
    "rf = RandomForestRegressor(n_estimators = 10)\n",
    "# Train the model on training data\n",
    "rf.fit(x_train, y_train);"
   ]
  },
  {
   "cell_type": "markdown",
   "metadata": {},
   "source": [
    "__Testing: Random forest classifier for predicting the scores of the team__"
   ]
  },
  {
   "cell_type": "code",
   "execution_count": 20,
   "metadata": {},
   "outputs": [
    {
     "name": "stdout",
     "output_type": "stream",
     "text": [
      "Correlation:  (0.09999825271236096, 0.007287033022755875)\n",
      "Validation Accuracy:  -0.2796886813707702\n",
      "Mean Absolute Error: 1.4315716272600834\n",
      "Mean Squared Error: 3.3840194714881777\n",
      "Root Mean Squared Error: 1.8395704584190782\n",
      "Accuracy for Random Forest: 99.0\n",
      "Coefficient of determination: -0.2796886813707702\n"
     ]
    }
   ],
   "source": [
    "# Use the forest's predict method on the test data\n",
    "y_pred = rf.predict(x_test)\n",
    "\n",
    "from scipy.stats import pearsonr\n",
    "# find the correlation between real answer and prediction\n",
    "correlation = pearsonr(y_pred, y_test)\n",
    "print('Correlation: ',correlation)\n",
    "\n",
    "from sklearn.metrics import mean_absolute_error\n",
    "print('Validation Accuracy: ',rf.score(x_test, y_test))\n",
    "print('Mean Absolute Error:', mean_absolute_error(y_test, y_pred))\n",
    "print('Mean Squared Error:', mean_squared_error(y_test, y_pred))\n",
    "print('Root Mean Squared Error:', np.sqrt(mean_squared_error(y_test, y_pred)))\n",
    "import warnings\n",
    "warnings.filterwarnings('ignore')\n",
    "accuracy= (~np.isnan(100*((mean_absolute_error(y_test, y_pred))/y_test))) \n",
    "accuracy=round (100 - np.mean(accuracy),2)\n",
    "print('Accuracy for Random Forest:',accuracy) \n",
    "\n",
    "\n",
    "# The coefficient of determination: 1 is perfect prediction\n",
    "print(\"Coefficient of determination: \"+str(r2_score(y_test, y_pred)))"
   ]
  },
  {
   "cell_type": "markdown",
   "metadata": {},
   "source": [
    "__Validation: Random forest classifier for predicting the scores of the team__"
   ]
  },
  {
   "cell_type": "code",
   "execution_count": 28,
   "metadata": {},
   "outputs": [
    {
     "name": "stdout",
     "output_type": "stream",
     "text": [
      "Validation Accuracy:  -0.4403113796627016\n",
      "Mean Absolute Error: 1.6479833101529904\n",
      "Mean Squared Error: 4.182573018080667\n",
      "Root Mean Squared Error: 2.0451339853615136\n",
      "Accuracy for Random Forest: 99.0\n",
      "Coefficient of determination: -0.4403113796627016\n"
     ]
    }
   ],
   "source": [
    "# Use the forest's predict method on the test data\n",
    "y_pred = rf.predict(x_val)\n",
    "\n",
    "print('Validation Accuracy: ',rf.score(x_val, y_val))\n",
    "print('Mean Absolute Error:', mean_absolute_error(y_val, y_pred))\n",
    "print('Mean Squared Error:', mean_squared_error(y_val, y_pred))\n",
    "print('Root Mean Squared Error:', np.sqrt(mean_squared_error(y_val, y_pred)))\n",
    "\n",
    "accuracy= (~np.isnan(100*((mean_absolute_error(y_val, y_pred))/y_val))) \n",
    "accuracy=round (100 - np.mean(accuracy),2)\n",
    "print('Accuracy for Random Forest:',accuracy) \n",
    "\n",
    "# The coefficient of determination: 1 is perfect prediction\n",
    "print(\"Coefficient of determination: \"+str(r2_score(y_val, y_pred)))"
   ]
  },
  {
   "cell_type": "markdown",
   "metadata": {},
   "source": [
    "The random forest regression works better when compared to the linear regression. This can be seen from the accuracy of random forest. The mean squared error value is higher for linear regression when compared to the random forest."
   ]
  }
 ],
 "metadata": {
  "environment": {
   "name": "common-cpu.m56",
   "type": "gcloud",
   "uri": "gcr.io/deeplearning-platform-release/base-cpu:m56"
  },
  "kernelspec": {
   "display_name": "Python 3",
   "language": "python",
   "name": "python3"
  },
  "language_info": {
   "codemirror_mode": {
    "name": "ipython",
    "version": 3
   },
   "file_extension": ".py",
   "mimetype": "text/x-python",
   "name": "python",
   "nbconvert_exporter": "python",
   "pygments_lexer": "ipython3",
   "version": "3.8.3"
  }
 },
 "nbformat": 4,
 "nbformat_minor": 4
}
